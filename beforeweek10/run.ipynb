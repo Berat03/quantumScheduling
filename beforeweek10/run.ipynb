{
 "cells": [
  {
   "cell_type": "code",
   "execution_count": 1,
   "metadata": {},
   "outputs": [],
   "source": [
    "%reload_ext autoreload\n",
    "%autoreload 2\n",
    "\n",
    "import numpy as np\n",
    "import random\n",
    "from quantumNetwork import QuantumNetwork\n",
    "from qTable import QTable\n"
   ]
  },
  {
   "cell_type": "code",
   "execution_count": 2,
   "metadata": {},
   "outputs": [],
   "source": [
    "# Example 2: Attempt to Overuse Qubits\n",
    "initial_edges = [(0, 2), (1, 2), (2, 3), (3, 4), (3, 5)]\n",
    "goalWeights = [((0, 3), 0.7), ((1, 5), 0.)]\n",
    "network = QuantumNetwork(initial_edges, goalWeights=goalWeights, pGen=1, pSwap=1, maxAge=3)\n",
    "\n",
    "q_table = QTable(default_q_value=0.0)\n"
   ]
  },
  {
   "cell_type": "code",
   "execution_count": 3,
   "metadata": {},
   "outputs": [
    {
     "name": "stdout",
     "output_type": "stream",
     "text": [
      "48\n"
     ]
    }
   ],
   "source": [
    "import sys\n",
    "print(sys.getsizeof(network))"
   ]
  },
  {
   "cell_type": "code",
   "execution_count": 4,
   "metadata": {},
   "outputs": [
    {
     "name": "stdout",
     "output_type": "stream",
     "text": [
      "Current State:\n",
      "{(0, 2): 0, (2, 3): 0, (3, 4): 0}\n",
      "\n",
      "Possible Actions:\n",
      "[([(0, 2), (2, 3)], (0, 3)), ([], None)]\n",
      "\n",
      "Epsilon-greedy selections (epsilon=0.5):\n",
      "Selection 1: ([], None)\n",
      "Selection 2: ([], None)\n",
      "Selection 3: ([], None)\n",
      "Selection 4: ([], None)\n",
      "Selection 5: ([(0, 2), (2, 3)], (0, 3))\n"
     ]
    },
    {
     "data": {
      "image/png": "[encoded data removed]",
      "text/plain": [
       "<Figure size 1200x800 with 1 Axes>"
      ]
     },
     "metadata": {},
     "output_type": "display_data"
    }
   ],
   "source": [
    "# Clear and initialize network\n",
    "network = QuantumNetwork(initial_edges, goalWeights=goalWeights, pGen=0.8, pSwap=1, maxAge=3)\n",
    "\n",
    "# Generate some entanglements\n",
    "network.generateEntanglement(0, 2)\n",
    "network.generateEntanglement(2, 3)\n",
    "network.generateEntanglement(3, 4)\n",
    "\n",
    "# Print current state\n",
    "print(\"Current State:\")\n",
    "print(network.getState())\n",
    "\n",
    "# Get possible actions\n",
    "print(\"\\nPossible Actions:\")\n",
    "print(network.getActions())\n",
    "\n",
    "# Try epsilon-greedy selection multiple times\n",
    "print(\"\\nEpsilon-greedy selections (epsilon=0.5):\")\n",
    "for i in range(5):\n",
    "    action = network.getActionEpsilonGreedyPolicy(q_table, network.getState(), epsilon=0.5)\n",
    "    print(f\"Selection {i+1}: {action}\")\n",
    "\n",
    "# Draw the network to visualize\n",
    "network.drawNetwork()"
   ]
  },
  {
   "cell_type": "code",
   "execution_count": 5,
   "metadata": {},
   "outputs": [
    {
     "name": "stdout",
     "output_type": "stream",
     "text": [
      "Testing Q-table Update Functionality:\n",
      "--------------------------------------------------\n",
      "\n",
      "Initial Q-values:\n",
      "Action ([(0, 2), (2, 3)], (0, 3)): 0.0\n",
      "Action ([], None): 0.0\n",
      "\n",
      "Testing Q-value updates:\n",
      "\n",
      "Testing updates for action: ([(0, 2), (2, 3)], (0, 3))\n",
      "Set value: 0.1, Retrieved value: 0.1\n",
      "Update successful: True\n",
      "Set value: 0.5, Retrieved value: 0.5\n",
      "Update successful: True\n",
      "Set value: 0.9, Retrieved value: 0.9\n",
      "Update successful: True\n",
      "\n",
      "Testing updates for action: ([], None)\n",
      "Set value: 0.1, Retrieved value: 0.1\n",
      "Update successful: True\n",
      "Set value: 0.5, Retrieved value: 0.5\n",
      "Update successful: True\n",
      "Set value: 0.9, Retrieved value: 0.9\n",
      "Update successful: True\n",
      "\n",
      "Testing state persistence:\n",
      "\n",
      "Values for same action in different states:\n",
      "Original state value: 0.9\n",
      "New state value: 0.7\n",
      "\n",
      "Full Q-table contents:\n",
      "\n",
      "State: {(0, 2): 0, (2, 3): 0, (3, 4): 0}\n",
      "Action: (((0, 2), (2, 3)), (0, 3)), Value: 0.9\n",
      "Action: ((), None), Value: 0.9\n",
      "\n",
      "State: {(0, 2): 1, (2, 3): 0, (3, 4): 0}\n",
      "Action: (((0, 2), (2, 3)), (0, 3)), Value: 0.7\n"
     ]
    }
   ],
   "source": [
    "# Test Q-table updates and storage\n",
    "print(\"Testing Q-table Update Functionality:\")\n",
    "print(\"-\" * 50)\n",
    "\n",
    "# 1. Get initial state and action\n",
    "current_state = network.getState()\n",
    "possible_actions = network.getActions()\n",
    "\n",
    "# 2. Print initial Q-values\n",
    "print(\"\\nInitial Q-values:\")\n",
    "for action in possible_actions:\n",
    "    value = q_table.get_q_value(current_state, action)\n",
    "    print(f\"Action {action}: {value}\")\n",
    "\n",
    "# 3. Test updating values\n",
    "print(\"\\nTesting Q-value updates:\")\n",
    "test_values = [0.1, 0.5, 0.9]  # Test different values\n",
    "for action in possible_actions:\n",
    "    print(f\"\\nTesting updates for action: {action}\")\n",
    "    for test_value in test_values:\n",
    "        # Update value\n",
    "        q_table.update_q_value(current_state, action, test_value)\n",
    "        # Retrieve value\n",
    "        stored_value = q_table.get_q_value(current_state, action)\n",
    "        # Verify\n",
    "        print(f\"Set value: {test_value}, Retrieved value: {stored_value}\")\n",
    "        print(f\"Update successful: {abs(test_value - stored_value) < 1e-10}\")\n",
    "\n",
    "# 4. Test state persistence\n",
    "print(\"\\nTesting state persistence:\")\n",
    "# Create a slightly different state\n",
    "new_state = current_state.copy()\n",
    "new_state[(0, 2)] = 1  # Change one value\n",
    "\n",
    "# Update value in new state\n",
    "test_action = possible_actions[0]\n",
    "q_table.update_q_value(new_state, test_action, 0.7)\n",
    "\n",
    "print(\"\\nValues for same action in different states:\")\n",
    "print(f\"Original state value: {q_table.get_q_value(current_state, test_action)}\")\n",
    "print(f\"New state value: {q_table.get_q_value(new_state, test_action)}\")\n",
    "\n",
    "# 5. Print full Q-table contents\n",
    "print(\"\\nFull Q-table contents:\")\n",
    "# Convert defaultdict to regular dict for printing\n",
    "q_dict = dict(q_table.q_table)\n",
    "for state_key in q_dict:\n",
    "    print(f\"\\nState: {dict(state_key)}\")\n",
    "    for action_key, value in q_dict[state_key].items():\n",
    "        print(f\"Action: {action_key}, Value: {value}\")"
   ]
  },
  {
   "cell_type": "code",
   "execution_count": 6,
   "metadata": {},
   "outputs": [
    {
     "name": "stdout",
     "output_type": "stream",
     "text": [
      "48\n",
      "48\n"
     ]
    }
   ],
   "source": [
    "print(sys.getsizeof(network))\n",
    "print(sys.getsizeof(q_table))"
   ]
  },
  {
   "cell_type": "markdown",
   "metadata": {},
   "source": [
    "Testing the Epsilon Greedy Function\n",
    "\n"
   ]
  },
  {
   "cell_type": "code",
   "execution_count": 21,
   "metadata": {},
   "outputs": [
    {
     "name": "stdout",
     "output_type": "stream",
     "text": [
      "Current Network State:\n",
      "{(1, 2): 0, (3, 4): 0}\n",
      "\n",
      "Possible Actions in Current State:\n",
      "0: ([], None)\n",
      "\n",
      "Q-values for Possible Actions:\n",
      "Action ([], None) -> Q-value: 0.9\n",
      "\n",
      "Testing epsilon-greedy policy:\n",
      "\n",
      "With epsilon = 0.0:\n",
      "\n",
      "Action distribution:\n",
      "([], None): 20/20 (100.0%)\n",
      "\n",
      "With epsilon = 1.0:\n",
      "\n",
      "Action distribution:\n",
      "([], None): 20/20 (100.0%)\n",
      "\n",
      "With epsilon = 0.5:\n",
      "\n",
      "Action distribution:\n",
      "([], None): 20/20 (100.0%)\n"
     ]
    }
   ],
   "source": [
    "# Check that the Q tables is working, also the epsilon greedy policy\n",
    "random.seed(41)\n",
    "np.random.seed(41)\n",
    "\n",
    "# Get current state and possible actions\n",
    "current_state = network.getState()\n",
    "possible_actions = network.getActions()\n",
    "\n",
    "print(\"Current Network State:\")\n",
    "print(current_state)\n",
    "\n",
    "print(\"\\nPossible Actions in Current State:\")\n",
    "for i, action in enumerate(possible_actions):\n",
    "    print(f\"{i}: {action}\")\n",
    "\n",
    "# Set Q-values only for actually possible actions\n",
    "for action in possible_actions:\n",
    "    if action == possible_actions[0]:\n",
    "        q_table.update_q_value(current_state, action, 0.9)\n",
    "    elif action == possible_actions[1]:\n",
    "        q_table.update_q_value(current_state, action, 0.3)\n",
    "    else:\n",
    "        q_table.update_q_value(current_state, action, 0.1)\n",
    "\n",
    "print(\"\\nQ-values for Possible Actions:\")\n",
    "for action in possible_actions:\n",
    "    value = q_table.get_q_value(current_state, action)\n",
    "    print(f\"Action {action} -> Q-value: {value}\")\n",
    "\n",
    "# Test with more trials to better see the distribution\n",
    "print(\"\\nTesting epsilon-greedy policy:\")\n",
    "for epsilon in [0.0, 1.0, 0.5]:\n",
    "    print(f\"\\nWith epsilon = {epsilon}:\")\n",
    "    action_counts = {str(action): 0 for action in possible_actions}\n",
    "    \n",
    "    n_trials = 20\n",
    "    for i in range(n_trials):\n",
    "        chosen_action = network.getActionEpsilonGreedyPolicy(q_table, current_state, epsilon)\n",
    "        chosen_value = q_table.get_q_value(current_state, chosen_action)\n",
    "        action_counts[str(chosen_action)] += 1\n",
    "    \n",
    "    print(\"\\nAction distribution:\")\n",
    "    for action, count in action_counts.items():\n",
    "        print(f\"{action}: {count}/{n_trials} ({count/n_trials*100:.1f}%)\")"
   ]
  },
  {
   "cell_type": "code",
   "execution_count": 22,
   "metadata": {},
   "outputs": [
    {
     "ename": "NameError",
     "evalue": "name 'ca' is not defined",
     "output_type": "error",
     "traceback": [
      "\u001b[31m---------------------------------------------------------------------------\u001b[39m",
      "\u001b[31mNameError\u001b[39m                                 Traceback (most recent call last)",
      "\u001b[36mCell\u001b[39m\u001b[36m \u001b[39m\u001b[32mIn[22]\u001b[39m\u001b[32m, line 1\u001b[39m\n\u001b[32m----> \u001b[39m\u001b[32m1\u001b[39m \u001b[43mca\u001b[49m\n",
      "\u001b[31mNameError\u001b[39m: name 'ca' is not defined"
     ]
    }
   ],
   "source": [
    "ca"
   ]
  },
  {
   "cell_type": "code",
   "execution_count": null,
   "metadata": {},
   "outputs": [],
   "source": []
  }
 ],
 "metadata": {
  "kernelspec": {
   "display_name": ".venv",
   "language": "python",
   "name": "python3"
  },
  "language_info": {
   "codemirror_mode": {
    "name": "ipython",
    "version": 3
   },
   "file_extension": ".py",
   "mimetype": "text/x-python",
   "name": "python",
   "nbconvert_exporter": "python",
   "pygments_lexer": "ipython3",
   "version": "3.13.1"
  }
 },
 "nbformat": 4,
 "nbformat_minor": 2
}
